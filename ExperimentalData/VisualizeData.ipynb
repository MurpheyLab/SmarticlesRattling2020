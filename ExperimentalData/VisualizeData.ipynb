{
 "cells": [
  {
   "cell_type": "markdown",
   "metadata": {},
   "source": [
    "# Smarticle Experimental Data Visualization\n",
    "### Notebook Author: Thomas A. Berrueta\n",
    "In this notebook, I'll illustrate how to access and manipulate the smarticle experimental data. The goal of this notebook is to sufficiently demonstrate how to interact with the published smarticle data."
   ]
  },
  {
   "cell_type": "code",
   "execution_count": 1,
   "metadata": {},
   "outputs": [],
   "source": [
    "%load_ext autoreload\n",
    "%autoreload 2"
   ]
  },
  {
   "cell_type": "markdown",
   "metadata": {},
   "source": [
    "## Imports and Load Data"
   ]
  },
  {
   "cell_type": "code",
   "execution_count": 2,
   "metadata": {},
   "outputs": [],
   "source": [
    "from utils import *\n",
    "%matplotlib widget\n",
    "from mpl_toolkits.mplot3d import Axes3D\n",
    "import matplotlib.pyplot as plt\n",
    "\n",
    "########################\n",
    "# Load experimental data\n",
    "# filename = 'DriveA/DriveA_0pc/destab_driveA_0pc_randinit_1_noisevar_noclip_10_gaitdur_480_numinits_10.csv'\n",
    "filename = 'Drive3/destab_drive3_randinit_2_noisevar_noclip_10_gaitdur_480_numinits_10.csv'\n",
    "data = np.genfromtxt(filename,delimiter=',')"
   ]
  },
  {
   "cell_type": "markdown",
   "metadata": {},
   "source": [
    "## Scaling Data\n",
    "Here we take the raw AprilTag pixel coordinates and center them at the centroid of the smarticles. Then we scale the coordinates by the smarticle body lengths."
   ]
  },
  {
   "cell_type": "code",
   "execution_count": 3,
   "metadata": {},
   "outputs": [],
   "source": [
    "num_smarts = 3\n",
    "body_len_px = 53.54 # number of pixels corresponding to a smarticle body length\n",
    "t_data = data[:,1] # time vector\n",
    "t_sync = data[:,0] # time corresponding to beginning of each \n",
    "states = data[:,2:] # state vectors\n",
    "x_unscaled = states[:,::3]\n",
    "y_unscaled = states[:,1::3]\n",
    "theta = states[:,2::3]\n",
    "centroid = np.array([np.mean(x_unscaled,axis=1),np.mean(y_unscaled,axis=1)])\n",
    "origin = np.array([np.mean(centroid[0]),np.mean(centroid[1])])\n",
    "\n",
    "# Scaled data\n",
    "x = (x_unscaled-origin[0])/body_len_px\n",
    "y = (y_unscaled-origin[1])/body_len_px"
   ]
  },
  {
   "cell_type": "markdown",
   "metadata": {},
   "source": [
    "## Trajectory Plots\n",
    "These are the raw recorded trajectories scaled down to arbitrary units of smarticle body lengths. There are several different initializations of the experimental system included in these trajectories. Each of which begins with several minutes of randomized driving."
   ]
  },
  {
   "cell_type": "code",
   "execution_count": 4,
   "metadata": {},
   "outputs": [
    {
     "data": {
      "application/vnd.jupyter.widget-view+json": {
       "model_id": "f5c97dfb08fc4576bef4a01f66c1fdce",
       "version_major": 2,
       "version_minor": 0
      },
      "text/plain": [
       "Canvas(toolbar=Toolbar(toolitems=[('Home', 'Reset original view', 'home', 'home'), ('Back', 'Back to previous …"
      ]
     },
     "metadata": {},
     "output_type": "display_data"
    }
   ],
   "source": [
    "plt.figure()\n",
    "plt.subplot(3,1,1)\n",
    "plt.title('Smarticle Trajectories')\n",
    "plt.plot(t_data,x)\n",
    "plt.xlim([t_data[0], t_data[-1]])\n",
    "plt.ylabel(r'$x$')\n",
    "plt.grid(True)\n",
    "\n",
    "plt.subplot(3,1,2)\n",
    "plt.plot(t_data,y)\n",
    "plt.xlim([t_data[0], t_data[-1]])\n",
    "plt.ylabel(r'$y$')\n",
    "plt.grid(True)\n",
    "\n",
    "plt.subplot(3,1,3)\n",
    "plt.plot(t_data,theta)\n",
    "plt.xlim([t_data[0], t_data[-1]])\n",
    "plt.ylabel(r'$\\theta$')\n",
    "plt.xlabel('Time (s)')\n",
    "plt.grid(True)\n",
    "plt.show()"
   ]
  },
  {
   "cell_type": "markdown",
   "metadata": {},
   "source": [
    "## Calculating Rattling Over Trajectories\n",
    "Here we calculate rattling over windows in time of our experimental trajectories and display them. The randomizations at the beginning of each trial are intentionally left in to indicate that when we randomize the drive rattling increases as expected."
   ]
  },
  {
   "cell_type": "code",
   "execution_count": 9,
   "metadata": {},
   "outputs": [
    {
     "name": "stdout",
     "output_type": "stream",
     "text": [
      "Wall time: 9.94 s\n"
     ]
    },
    {
     "data": {
      "application/vnd.jupyter.widget-view+json": {
       "model_id": "c6877a56a10d4bb8ad916d0cff72a75e",
       "version_major": 2,
       "version_minor": 0
      },
      "text/plain": [
       "Canvas(toolbar=Toolbar(toolitems=[('Home', 'Reset original view', 'home', 'home'), ('Back', 'Back to previous …"
      ]
     },
     "metadata": {},
     "output_type": "display_data"
    }
   ],
   "source": [
    "# Calculate rattling over windows of the time-series\n",
    "dt = np.mean(np.diff(t_data))\n",
    "T = 8; ov = 1; w_sz = int(T/dt); N = 25;\n",
    "%time rats, covs, _ = rattling_windows(np.hstack([x,y,theta]),dt,w_sz,ov)\n",
    "\n",
    "# Plotting\n",
    "plt.figure()\n",
    "plt.plot(t_data[:2-w_sz-N],moving_average(rats,N))\n",
    "plt.xlabel('Time (s)')\n",
    "plt.ylabel('Rattling')\n",
    "plt.xlim([t_data[0],t_data[2-w_sz-N]])\n",
    "plt.ylim([-40,-10])\n",
    "plt.grid(True)\n",
    "plt.show()"
   ]
  },
  {
   "cell_type": "markdown",
   "metadata": {},
   "source": [
    "## Removing Random Shuffle Data\n",
    "To visualize the driven steady-state of the system under a given drive we must remove the periods of randomization. To this end we make use of the synchronization pulses to differentiate between the initializations in the time-series."
   ]
  },
  {
   "cell_type": "code",
   "execution_count": 6,
   "metadata": {},
   "outputs": [],
   "source": [
    "# Sync times and trial begin times\n",
    "offset = 0.45\n",
    "t_sync_trim = t_sync[np.where(t_sync>0.01)[0]]+offset\n",
    "trial_sync_inds = np.where(np.diff(t_sync_trim)>60)[0] # if the difference between time pulses exceeds 60 seconds \n",
    "                                                       # then we are in a different trial.\n",
    "rand_times = np.vstack([np.array([0.0, t_data[np.max(np.where(t_data<=t_sync[0])[0])]]),\n",
    "                        np.array([t_sync_trim[trial_sync_inds],t_sync_trim[trial_sync_inds+1]]).T])\n",
    "\n",
    "# Removing random data\n",
    "t_vec = np.copy(t_data)\n",
    "x_vec = [x.T[i] for i in range(num_smarts)]\n",
    "y_vec = [y.T[i] for i in range(num_smarts)]\n",
    "theta_vec = [theta.T[i] for i in range(num_smarts)]\n",
    "rat_vec = np.copy(rats)\n",
    "for i in range(rand_times.shape[0]):\n",
    "    rand_inds = np.where(np.logical_and(t_vec>=rand_times[i,0], t_vec<=rand_times[i,1]))\n",
    "    t_vec = np.delete(t_vec,rand_inds)\n",
    "    rat_vec = np.delete(rat_vec,rand_inds)\n",
    "    for j in range(num_smarts):\n",
    "        x_vec[j] = np.delete(x_vec[j],rand_inds)\n",
    "        y_vec[j] = np.delete(y_vec[j],rand_inds)\n",
    "        theta_vec[j] = np.delete(theta_vec[j],rand_inds)\n",
    "\n",
    "# Trim vectors to make rattling vector same size\n",
    "t_vec = np.copy(t_vec[:1-w_sz])\n",
    "x_vec = list(np.array(x_vec).T[:1-w_sz].T)\n",
    "y_vec = list(np.array(y_vec).T[:1-w_sz].T)\n",
    "theta_vec = list(np.array(theta_vec).T[:1-w_sz].T)"
   ]
  },
  {
   "cell_type": "markdown",
   "metadata": {},
   "source": [
    "## Trajectory Without Random\n",
    "Now we can visualize the smarticle trajectories without the randomization between trials. "
   ]
  },
  {
   "cell_type": "code",
   "execution_count": 7,
   "metadata": {},
   "outputs": [
    {
     "data": {
      "application/vnd.jupyter.widget-view+json": {
       "model_id": "859e8db28a524eca954849bac9b8ae04",
       "version_major": 2,
       "version_minor": 0
      },
      "text/plain": [
       "Canvas(toolbar=Toolbar(toolitems=[('Home', 'Reset original view', 'home', 'home'), ('Back', 'Back to previous …"
      ]
     },
     "metadata": {},
     "output_type": "display_data"
    }
   ],
   "source": [
    "plt.figure()\n",
    "plt.subplot(3,1,1)\n",
    "plt.title('Smarticle Trajectories No Random')\n",
    "plt.scatter(t_vec,x_vec[0],s=2)\n",
    "plt.scatter(t_vec,x_vec[1],s=2)\n",
    "plt.scatter(t_vec,x_vec[2],s=2)\n",
    "plt.xlim([t_vec[0], t_vec[-1]])\n",
    "plt.ylabel(r'$x$')\n",
    "plt.grid(True)\n",
    "\n",
    "plt.subplot(3,1,2)\n",
    "plt.scatter(t_vec,y_vec[0],s=2)\n",
    "plt.scatter(t_vec,y_vec[1],s=2)\n",
    "plt.scatter(t_vec,y_vec[2],s=2)\n",
    "plt.xlim([t_vec[0], t_vec[-1]])\n",
    "plt.ylabel(r'$y$')\n",
    "plt.grid(True)\n",
    "\n",
    "plt.subplot(3,1,3)\n",
    "plt.scatter(t_vec,theta_vec[0],s=2)\n",
    "plt.scatter(t_vec,theta_vec[1],s=2)\n",
    "plt.scatter(t_vec,theta_vec[2],s=2)\n",
    "plt.xlim([t_vec[0], t_vec[-1]])\n",
    "plt.ylabel(r'$\\theta$')\n",
    "plt.xlabel('Time (s)')\n",
    "plt.grid(True)\n",
    "plt.show()"
   ]
  },
  {
   "cell_type": "markdown",
   "metadata": {},
   "source": [
    "## Period Times\n",
    "Collect the time stamp indices at the beginning of each smarticle drive period."
   ]
  },
  {
   "cell_type": "code",
   "execution_count": 10,
   "metadata": {},
   "outputs": [],
   "source": [
    "inds = []\n",
    "for i in range(1,len(t_sync_trim)):\n",
    "    temp = np.where(t_sync_trim[i]<=t_vec)[0]\n",
    "    if len(temp) > 0:\n",
    "        inds.append(np.min(temp))"
   ]
  },
  {
   "cell_type": "markdown",
   "metadata": {},
   "source": [
    "## Preprocessing Data\n",
    "Calculate coordinate transformation to remove global rotation symmetry."
   ]
  },
  {
   "cell_type": "code",
   "execution_count": 11,
   "metadata": {},
   "outputs": [
    {
     "name": "stdout",
     "output_type": "stream",
     "text": [
      "Wall time: 2.55 s\n"
     ]
    }
   ],
   "source": [
    "prep_data = np.vstack([x_vec[0],y_vec[0],theta_vec[0],x_vec[1],y_vec[1],theta_vec[1],x_vec[2],y_vec[2],theta_vec[2]]).T\n",
    "%time observables = preprocess(prep_data)"
   ]
  },
  {
   "cell_type": "markdown",
   "metadata": {},
   "source": [
    "## Driven Steady-State Plot\n",
    "Here we construct a 3D scatter plot similar to those in the main manuscript. We plot the rotationally symmetric smarticle observables at the beginning of each driving period as colored by their measured rattling value."
   ]
  },
  {
   "cell_type": "code",
   "execution_count": 12,
   "metadata": {},
   "outputs": [
    {
     "data": {
      "application/vnd.jupyter.widget-view+json": {
       "model_id": "1b9b205fa5ac43b08146c321f1de7af8",
       "version_major": 2,
       "version_minor": 0
      },
      "text/plain": [
       "Canvas(toolbar=Toolbar(toolitems=[('Home', 'Reset original view', 'home', 'home'), ('Back', 'Back to previous …"
      ]
     },
     "metadata": {},
     "output_type": "display_data"
    }
   ],
   "source": [
    "fig = plt.figure(figsize=(6,5))\n",
    "ax = fig.add_subplot(111, projection='3d')\n",
    "skip=1; offset = 30; col = rat_vec[inds[offset:-1:skip]]\n",
    "im = ax.scatter(observables[inds[offset:-1:skip],1],observables[inds[offset:-1:skip],0],observables[inds[offset:-1:skip],2],c=col,s=5,alpha=0.5)\n",
    "ax.view_init(elev=5, azim=95)\n",
    "ax.set_xlabel(r'$q_1$')\n",
    "ax.set_ylabel(r'$q_2$')\n",
    "ax.set_zlabel(r'$q_3$')\n",
    "cbar = fig.colorbar(im,shrink=0.6)\n",
    "cbar.set_label('Rattling')\n",
    "plt.tight_layout()\n",
    "plt.show()"
   ]
  },
  {
   "cell_type": "code",
   "execution_count": null,
   "metadata": {},
   "outputs": [],
   "source": [
    "plt.close('all')"
   ]
  }
 ],
 "metadata": {
  "kernelspec": {
   "display_name": "Python 3",
   "language": "python",
   "name": "python3"
  },
  "language_info": {
   "codemirror_mode": {
    "name": "ipython",
    "version": 3
   },
   "file_extension": ".py",
   "mimetype": "text/x-python",
   "name": "python",
   "nbconvert_exporter": "python",
   "pygments_lexer": "ipython3",
   "version": "3.8.5"
  }
 },
 "nbformat": 4,
 "nbformat_minor": 4
}
